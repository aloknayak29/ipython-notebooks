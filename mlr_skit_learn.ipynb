{
 "metadata": {
  "name": "Untitled2"
 },
 "nbformat": 3,
 "nbformat_minor": 0,
 "worksheets": [
  {
   "cells": [
    {
     "cell_type": "code",
     "collapsed": false,
     "input": "import pandas\nimport numpy as np\nfrom sklearn import linear_model\nclf = linear_model.LinearRegression()\na = pandas.read_csv(\"datatest.csv\")\nx = [list(i[1:4]) for i in a.itertuples()]\ny = np.array(a.b)\n",
     "language": "python",
     "metadata": {},
     "outputs": [],
     "prompt_number": 2
    },
    {
     "cell_type": "code",
     "collapsed": false,
     "input": "clf.fit(x,y.tolist())\n\n#clf.fit ([[0, 0, 0], [1, 1, 1], [2, 2, 2]], [0, 1, 2])\n# clf.fit([[394, 3878, 13, 4, 0, 0],[384, 10175, 14, 4, 0, 0]],[3,9])\nclf.fit(x,y.tolist())\nprint 'coef array',clf.coef_\nprint 'length', len(clf.coef_)\nprint 'getting value 0:', clf.coef_[0]\nprint 'getting value 1:', clf.coef_[1]\nprint 'getting value 1:', clf.coef_[2]\nz = clf.predict(x)\nfor i,j in zip(y,z):\n    print i,j",
     "language": "python",
     "metadata": {},
     "outputs": [
      {
       "output_type": "stream",
       "stream": "stdout",
       "text": "coef array [ 0.  1. -0.]\nlength 3\ngetting value 0: 1.11022302463e-16\ngetting value 1: 1.0\ngetting value 1: -1.66533453694e-16\n45 45.0\n54 54.0\n44 44.0\n46 46.0\n47 47.0\n44 44.0\n49 49.0\n54 54.0\n53 53.0\n78 78.0\n80 80.0\n81 81.0\n88 88.0\n90 90.0\n67 67.0\n84 84.0\n85 85.0\n82 82.0\n12 12.0\n13 13.0\n12 12.0\n13 13.0\n14 14.0\n15 15.0\n11 11.0\n10 10.0\n9 9.0\n10 10.0\n"
      }
     ],
     "prompt_number": 3
    }
   ],
   "metadata": {}
  }
 ]
}
