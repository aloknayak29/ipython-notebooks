{
 "metadata": {
  "name": "",
  "signature": "sha256:7059567a44b84cbe2ff04f657a2bcaa6e13c2969b7dcb78e0959c9a2e970ae23"
 },
 "nbformat": 3,
 "nbformat_minor": 0,
 "worksheets": [
  {
   "cells": [
    {
     "cell_type": "code",
     "collapsed": false,
     "input": [
      "import json\n",
      "import requests\n",
      "import datetime as dt\n",
      "import calendar\n",
      "from bs4 import BeautifulSoup\n",
      "import time\n",
      "hdr = {'User-Agent': 'Magic Browser',\n",
      "       'Accept': 'text/html,application/xhtml+xml,application/xml;q=0.9,*/*;q=0.8',\n",
      "       'Accept-Charset': 'ISO-8859-1,utf-8;q=0.7,*;q=0.3',\n",
      "       'Accept-Encoding': 'none',\n",
      "       'Accept-Language': 'en-US,en;q=0.8',\n",
      "       'Connection': 'keep-alive'}\n",
      "\n",
      "base_url = \"http://en.wikipedia.org/wiki/Wikipedia:Lists_of_common_misspellings/\"\n",
      "posts = []\n",
      "s = requests.Session()\n",
      "#try:\n",
      "atoz = 'ABCDEFGHIJKLMNOPQRSTUVWXYZ'\n",
      "allmiss = []\n",
      "for c in atoz:\n",
      "    r = s.get(base_url+c, headers=hdr)\n",
      "#except:\n",
      "#    print \"some requests exception\"\n",
      "    k = r.text\n",
      "    soup = BeautifulSoup(k, \"html.parser\")\n",
      "    l = [(e.parent.span.text, re.search('\\((.+)\\)',e.parent.text).group(1)) for e in soup.select(\".plainlinks\")]\n",
      "    allmiss.extend(l)"
     ],
     "language": "python",
     "metadata": {},
     "outputs": []
    },
    {
     "cell_type": "code",
     "collapsed": false,
     "input": [
      "import csv\n",
      "with open(r'common_misspellings.csv', 'wb')as f:\n",
      "    writer = UnicodeWriter(f, lineterminator = '\\n', quoting=csv.QUOTE_ALL)\n",
      "    writer.writerow([\"misspellings\",\"corrections\"])\n",
      "    writer.writerows(allmiss)"
     ],
     "language": "python",
     "metadata": {},
     "outputs": []
    },
    {
     "cell_type": "code",
     "collapsed": false,
     "input": [
      "import csv, codecs, cStringIO\n",
      "class UnicodeWriter:\n",
      "    \"\"\"\n",
      "    A CSV writer which will write rows to CSV file \"f\",\n",
      "    which is encoded in the given encoding.\n",
      "    \"\"\"\n",
      "\n",
      "    def __init__(self, f, dialect=csv.excel, encoding=\"utf-8\", **kwds):\n",
      "        # Redirect output to a queue\n",
      "        self.queue = cStringIO.StringIO()\n",
      "        self.writer = csv.writer(self.queue, dialect=dialect, **kwds)\n",
      "        self.stream = f\n",
      "        self.encoder = codecs.getincrementalencoder(encoding)()\n",
      "\n",
      "    def writerow(self, row):\n",
      "        self.writer.writerow([s.encode(\"utf-8\") for s in row])\n",
      "        # Fetch UTF-8 output from the queue ...\n",
      "        data = self.queue.getvalue()\n",
      "        data = data.decode(\"utf-8\")\n",
      "        # ... and reencode it into the target encoding\n",
      "        data = self.encoder.encode(data)\n",
      "        # write to the target stream\n",
      "        self.stream.write(data)\n",
      "        # empty queue\n",
      "        self.queue.truncate(0)\n",
      "\n",
      "    def writerows(self, rows):\n",
      "        for row in rows:\n",
      "            self.writerow(row)"
     ],
     "language": "python",
     "metadata": {},
     "outputs": []
    }
   ],
   "metadata": {}
  }
 ]
}
