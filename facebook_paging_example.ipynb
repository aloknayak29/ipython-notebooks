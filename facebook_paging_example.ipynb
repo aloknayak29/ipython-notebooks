{
 "metadata": {
  "name": "createcsv-Copy0-Copy1"
 },
 "nbformat": 3,
 "nbformat_minor": 0,
 "worksheets": [
  {
   "cells": [
    {
     "cell_type": "code",
     "collapsed": false,
     "input": "#this facebook-sdk library is forked and modified \n#from originalfacebook's facebook-sdk\nimport facebook\nimport time\ngraph = facebook.GraphAPI(\"your acess token\")",
     "language": "python",
     "metadata": {},
     "outputs": [],
     "prompt_number": 111
    },
    {
     "cell_type": "code",
     "collapsed": false,
     "input": "graph",
     "language": "python",
     "metadata": {},
     "outputs": [
      {
       "metadata": {},
       "output_type": "pyout",
       "prompt_number": 112,
       "text": "<facebook.GraphAPI at 0x24523d0>"
      }
     ],
     "prompt_number": 112
    },
    {
     "cell_type": "code",
     "collapsed": false,
     "input": "home = graph.get_object(\"me/posts\")",
     "language": "python",
     "metadata": {},
     "outputs": [],
     "prompt_number": 113
    },
    {
     "cell_type": "code",
     "collapsed": false,
     "input": "comments = []\nlikes = []\nposts = []\nalls = []\ncount = 0\nhome.keys()",
     "language": "python",
     "metadata": {},
     "outputs": [
      {
       "metadata": {},
       "output_type": "pyout",
       "prompt_number": 115,
       "text": "['paging', 'data']"
      }
     ],
     "prompt_number": 115
    },
    {
     "cell_type": "code",
     "collapsed": false,
     "input": "while(home):\n    count = count + 1\n    print count\n    data = home['data']\n    for e in data:\n        #some processing on individual post\n    nxt = home.get('paging',{}).get('next')\n    home = None\n    time.sleep(10)\n    if nxt:\n        #this request_url method was added on my facebook-sdk as\n        #a paging support addon method\n        home = graph.request_url(nxt)\n        ",
     "language": "python",
     "metadata": {},
     "outputs": [
      {
       "output_type": "stream",
       "stream": "stdout",
       "text": "1\n2"
      },
      {
       "output_type": "stream",
       "stream": "stdout",
       "text": "\n3"
      },
      {
       "output_type": "stream",
       "stream": "stdout",
       "text": "\n4"
      },
      {
       "output_type": "stream",
       "stream": "stdout",
       "text": "\n5"
      },
      {
       "output_type": "stream",
       "stream": "stdout",
       "text": "\n6"
      },
      {
       "output_type": "stream",
       "stream": "stdout",
       "text": "\n7"
      },
      {
       "output_type": "stream",
       "stream": "stdout",
       "text": "\n8"
      },
      {
       "output_type": "stream",
       "stream": "stdout",
       "text": "\n9"
      },
      {
       "output_type": "stream",
       "stream": "stdout",
       "text": "\n10"
      },
      {
       "output_type": "stream",
       "stream": "stdout",
       "text": "\n11"
      },
      {
       "output_type": "stream",
       "stream": "stdout",
       "text": "\n12"
      },
      {
       "output_type": "stream",
       "stream": "stdout",
       "text": "\n13"
      },
      {
       "output_type": "stream",
       "stream": "stdout",
       "text": "\n14"
      },
      {
       "output_type": "stream",
       "stream": "stdout",
       "text": "\n15"
      },
      {
       "output_type": "stream",
       "stream": "stdout",
       "text": "\n16"
      },
      {
       "output_type": "stream",
       "stream": "stdout",
       "text": "\n17"
      },
      {
       "output_type": "stream",
       "stream": "stdout",
       "text": "\n18"
      },
      {
       "output_type": "stream",
       "stream": "stdout",
       "text": "\n19"
      },
      {
       "output_type": "stream",
       "stream": "stdout",
       "text": "\n20"
      },
      {
       "output_type": "stream",
       "stream": "stdout",
       "text": "\n"
      }
     ],
     "prompt_number": 116
    }
   ],
   "metadata": {}
  }
 ]
}
